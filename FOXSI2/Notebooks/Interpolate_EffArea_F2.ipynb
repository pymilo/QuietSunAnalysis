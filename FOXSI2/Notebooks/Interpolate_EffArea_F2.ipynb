{
 "cells": [
  {
   "cell_type": "markdown",
   "metadata": {},
   "source": [
    "# Interpolate Effective Area FOXSI2"
   ]
  },
  {
   "cell_type": "code",
   "execution_count": 539,
   "metadata": {},
   "outputs": [],
   "source": [
    "from scipy import interpolate\n",
    "import csv\n",
    "import numpy as np\n",
    "\n",
    "# EffArea Dir\n",
    "EADir = '/Users/Kamilobu/Desktop/F2EffAreas/'\n",
    "EAangles = np.insert(np.arange(-9,9+1,2),5,0)\n",
    "EAenergies = [4.5,  5.5,  6.5,  7.5,  8.5,  9.5, 11. , 13. , 15. , 17. , 19. , 22.5, 27.5]\n",
    "\n",
    "def loadEA(det):\n",
    "    mod = 0 if det == 6 else det\n",
    "    # Read Eff Area Files\n",
    "    EApanD  = csv.DictReader(open(EADir+'FOXSI2_Module_X-'+str(mod)+'_EA_pan.txt'),\n",
    "                           fieldnames=EAangles) # Horizontal axis\n",
    "    EAtiltD = csv.DictReader(open(EADir+'FOXSI2_Module_X-'+str(mod)+'_EA_tilt.txt'),\n",
    "                           fieldnames=EAangles) # Vertical axis\n",
    "    # Skip 4 lines of header\n",
    "    _ = next(EApanD); _ = next(EApanD); _ = next(EApanD); _ = next(EApanD)\n",
    "    _ = next(EAtiltD); _ = next(EAtiltD); _ = next(EAtiltD); _ = next(EAtiltD)\n",
    "    # Save to a list :\n",
    "    EApan, EAtilt = [], []\n",
    "    for r in EApanD:\n",
    "        EApan.append(list(r.values()))\n",
    "    for r in EAtiltD:\n",
    "        EAtilt.append(list(r.values()))\n",
    "    # return as an array of floats\n",
    "    return np.array(EApan).astype(np.float), np.array(EAtilt).astype(np.float)\n",
    "\n",
    "def EAenergy(det, e_index, Pxi, Pyi) :\n",
    "    EA6pan, EA6tilt = loadEA(det)\n",
    "    EA6raw = np.concatenate((EA6pan[e_index], EA6tilt[e_index]))\n",
    "    Xea = np.concatenate((EAangles,np.zeros(11)))\n",
    "    Yea = np.concatenate((np.zeros(11),EAangles))\n",
    "    EAe = interpolate.interp2d(Xea, Yea, EA6raw, kind='cubic')\n",
    "    return float(EAe(Pxi,Pyi))\n",
    "\n",
    "def EAi(det, Ei, Pxi, Pyi):\n",
    "    '''  function that gives the effective area as function of the\n",
    "            - detector\n",
    "            - energy of the event\n",
    "            - heliographic position (x,y) of the event\n",
    "    '''\n",
    "    idown = np.where(np.array(EAenergies) > Ei)[0] - 1\n",
    "    iup   = np.where(np.array(EAenergies) < Ei)[0] + 1\n",
    "    indices = []\n",
    "    for i, j in [(i,j) for i in idown for j in iup] : \n",
    "        if i ==j : indices.append(i)\n",
    "    return np.interp(Ei, (EAenergies[indices[0]], EAenergies[indices[1]]),\n",
    "                     (EAenergy(det,indices[0],Pxi, Pyi), EAenergy(det,indices[1],Pxi, Pyi)))"
   ]
  },
  {
   "cell_type": "code",
   "execution_count": 540,
   "metadata": {},
   "outputs": [],
   "source": [
    "# Let's suppose a position and energy for testsing\n",
    "det, Ei, Pxi, Pyi = 6, 8.4, 5.5, -3.2 # keV, arcmin, arcmin"
   ]
  },
  {
   "cell_type": "code",
   "execution_count": 541,
   "metadata": {},
   "outputs": [
    {
     "data": {
      "text/plain": [
       "15.934218099689115"
      ]
     },
     "execution_count": 541,
     "metadata": {},
     "output_type": "execute_result"
    }
   ],
   "source": [
    "# det, Ei, Pxi, Pyi\n",
    "EAi(6, 8.4, 5.5, -3.2)"
   ]
  },
  {
   "cell_type": "code",
   "execution_count": 544,
   "metadata": {},
   "outputs": [
    {
     "data": {
      "text/plain": [
       "7.607526983126713"
      ]
     },
     "execution_count": 544,
     "metadata": {},
     "output_type": "execute_result"
    }
   ],
   "source": [
    "EAi(5, 8.4, 0.0, -12.1)"
   ]
  },
  {
   "cell_type": "code",
   "execution_count": null,
   "metadata": {},
   "outputs": [],
   "source": []
  },
  {
   "cell_type": "code",
   "execution_count": null,
   "metadata": {},
   "outputs": [],
   "source": []
  },
  {
   "cell_type": "code",
   "execution_count": null,
   "metadata": {},
   "outputs": [],
   "source": []
  },
  {
   "cell_type": "code",
   "execution_count": null,
   "metadata": {},
   "outputs": [],
   "source": []
  },
  {
   "cell_type": "code",
   "execution_count": null,
   "metadata": {},
   "outputs": [],
   "source": []
  },
  {
   "cell_type": "code",
   "execution_count": null,
   "metadata": {},
   "outputs": [],
   "source": []
  },
  {
   "cell_type": "code",
   "execution_count": null,
   "metadata": {},
   "outputs": [],
   "source": []
  },
  {
   "cell_type": "code",
   "execution_count": null,
   "metadata": {},
   "outputs": [],
   "source": []
  },
  {
   "cell_type": "code",
   "execution_count": null,
   "metadata": {},
   "outputs": [],
   "source": []
  },
  {
   "cell_type": "code",
   "execution_count": null,
   "metadata": {},
   "outputs": [],
   "source": []
  },
  {
   "cell_type": "code",
   "execution_count": null,
   "metadata": {},
   "outputs": [],
   "source": []
  },
  {
   "cell_type": "code",
   "execution_count": null,
   "metadata": {},
   "outputs": [],
   "source": []
  },
  {
   "cell_type": "code",
   "execution_count": null,
   "metadata": {},
   "outputs": [],
   "source": []
  },
  {
   "cell_type": "code",
   "execution_count": null,
   "metadata": {},
   "outputs": [],
   "source": []
  },
  {
   "cell_type": "code",
   "execution_count": null,
   "metadata": {},
   "outputs": [],
   "source": []
  },
  {
   "cell_type": "code",
   "execution_count": null,
   "metadata": {},
   "outputs": [],
   "source": []
  },
  {
   "cell_type": "code",
   "execution_count": null,
   "metadata": {},
   "outputs": [],
   "source": []
  },
  {
   "cell_type": "code",
   "execution_count": null,
   "metadata": {},
   "outputs": [],
   "source": []
  },
  {
   "cell_type": "code",
   "execution_count": null,
   "metadata": {},
   "outputs": [],
   "source": []
  },
  {
   "cell_type": "code",
   "execution_count": null,
   "metadata": {},
   "outputs": [],
   "source": []
  }
 ],
 "metadata": {
  "kernelspec": {
   "display_name": "Python 3",
   "language": "python",
   "name": "python3"
  },
  "language_info": {
   "codemirror_mode": {
    "name": "ipython",
    "version": 3
   },
   "file_extension": ".py",
   "mimetype": "text/x-python",
   "name": "python",
   "nbconvert_exporter": "python",
   "pygments_lexer": "ipython3",
   "version": "3.7.4"
  },
  "latex_envs": {
   "LaTeX_envs_menu_present": true,
   "autoclose": false,
   "autocomplete": true,
   "bibliofile": "biblio.bib",
   "cite_by": "apalike",
   "current_citInitial": 1,
   "eqLabelWithNumbers": true,
   "eqNumInitial": 1,
   "hotkeys": {
    "equation": "Ctrl-E",
    "itemize": "Ctrl-I"
   },
   "labels_anchors": false,
   "latex_user_defs": false,
   "report_style_numbering": false,
   "user_envs_cfg": false
  }
 },
 "nbformat": 4,
 "nbformat_minor": 2
}
