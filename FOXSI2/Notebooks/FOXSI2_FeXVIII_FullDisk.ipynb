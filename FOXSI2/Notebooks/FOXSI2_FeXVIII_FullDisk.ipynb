{
 "cells": [
  {
   "cell_type": "markdown",
   "metadata": {},
   "source": [
    "# Goal: \n",
    "### To identify all possible source of ghost rays during FOXSI2 observations Using FeXVIII Maps \n",
    "### Milo - Feb 2020\n",
    "\n"
   ]
  },
  {
   "cell_type": "code",
   "execution_count": 1,
   "metadata": {},
   "outputs": [],
   "source": [
    "import matplotlib.animation as animation"
   ]
  },
  {
   "cell_type": "code",
   "execution_count": null,
   "metadata": {},
   "outputs": [
    {
     "name": "stdout",
     "output_type": "stream",
     "text": [
      "1\n",
      "2\n",
      "3\n",
      "4\n",
      "5\n",
      "6\n",
      "7\n",
      "8\n",
      "9\n",
      "10\n",
      "11\n",
      "12\n",
      "13\n",
      "14\n",
      "15\n",
      "16\n",
      "17\n",
      "18\n",
      "19\n",
      "20\n",
      "21\n",
      "22\n",
      "23\n",
      "24\n",
      "25\n",
      "26\n",
      "27\n",
      "28\n",
      "29\n",
      "30\n",
      "31\n",
      "32\n",
      "33\n",
      "34\n",
      "35\n",
      "36\n",
      "37\n",
      "38\n",
      "39\n",
      "40\n",
      "41\n",
      "42\n",
      "43\n",
      "44\n",
      "45\n",
      "46\n",
      "47\n",
      "48\n",
      "49\n",
      "50\n",
      "51\n",
      "52\n",
      "53\n",
      "54\n",
      "55\n",
      "56\n"
     ]
    }
   ],
   "source": [
    "import glob\n",
    "from sunpy.map import Map\n",
    "from sunpy.time import TimeRange\n",
    "from astropy.io import fits\n",
    "from astropy.wcs import WCS\n",
    "import astropy.units as u\n",
    "from astropy.coordinates import SkyCoord\n",
    "import matplotlib.pyplot as plt\n",
    "import matplotlib.patches as patches\n",
    "import matplotlib.colors as colors\n",
    "import matplotlib.dates as md\n",
    "import matplotlib as mpl\n",
    "mpl.rc('axes',labelsize=14)\n",
    "mpl.rc('xtick',labelsize=12)\n",
    "mpl.rc('ytick',labelsize=12)\n",
    "from matplotlib.colors import ListedColormap\n",
    "import numpy as np\n",
    "import ipywidgets as widgets\n",
    "%matplotlib inline\n",
    "from ndcube import NDCube, NDCubeSequence\n",
    "from sunpy.visualization.colormaps import cm\n",
    "from scipy import ndimage\n",
    "import sunpy\n",
    "\n",
    "# FOXSI-2 List of Targets an Times\n",
    "Ftarget = {'cen1_pos0':(359.0, -431.0), # arcsec\n",
    "           'cen1_pos1':(-1.0, -431.0),\n",
    "           'cen1_pos2':(-1.0, -251.0),\n",
    "           'cen2_pos0':(-1.0, -281.0),\n",
    "           'cen2_pos1':(-390.0, -281.0),\n",
    "           'cen3_pos0':(1210.5, -431.5),\n",
    "           'cen3_pos1':(850.0, -431.5),\n",
    "           'cen3_pos2':(850.0, -251.0),\n",
    "           'cen4':(200.0, 750.0),\n",
    "           'cen5':(0.0, -251.0),\n",
    "           'cen_Iris':(11,-260),\n",
    "           'athiray':(30,-220)}\n",
    "Ftimes = {'cen1_pos0': TimeRange(['2014-12-11 19:12:42', '2014-12-11 19:13:14.3']),\n",
    "            'cen1_pos1':TimeRange(['2014-12-11 19:13:18','2014-12-11 19:13:42.6']),\n",
    "            'cen1_pos2':TimeRange(['2014-12-11 19:13:46.5','2014-12-11 19:14:25']),\n",
    "            'cen2_pos0':TimeRange(['2014-12-11 19:14:29','2014-12-11 19:14:39.6']),\n",
    "            'cen2_pos1':TimeRange(['2014-12-11 19:14:44','2014-12-11 19:15:36.7']),\n",
    "            'cen3_pos0':TimeRange(['2014-12-11 19:15:40.6','2014-12-11 19:16:07.2']),\n",
    "            'cen3_pos1':TimeRange(['2014-12-11 19:16:11','2014-12-11 19:16:30.1']),\n",
    "            'cen3_pos2':TimeRange(['2014-12-11 19:16:34','2014-12-11 19:17:09.2']),\n",
    "            'cen4':TimeRange(['2014-12-11 19:17:13.5','2014-12-11 19:18:46.2']),\n",
    "            'cen5':TimeRange(['2014-12-11 19:18:50.5','2014-12-11 19:19:23.2']),\n",
    "            't_shtr':TimeRange(['2014-12-11 19:18:18','2014-12-11 19:18:22']),\n",
    "            'Iris_Obs':TimeRange(['2014-12-11 19:12:22','2014-12-11 19:39:01'])}\n",
    "fov = (1000,1000) # arcsec\n",
    "# Reading AIA Maps:\n",
    "data_dir = '/Volumes/Pandora/FOXSI/AIA/'\n",
    "str_indices = {'94':'', '131':'', '171':'', '193':'', '211':'', '304':'', '335':'', '1600':'', '1700':''}\n",
    "file_list = {}\n",
    "\n",
    "for key in str_indices:\n",
    "    file_list.update({key: glob.glob(data_dir + '*' + key + '*.fits')})\n",
    "    file_list[key]=sorted(file_list[key])\n",
    "\n",
    "F_AIA094 = file_list['94']\n",
    "F_AIA171 = file_list['171']\n",
    "F_AIA211 = file_list['211']\n",
    "mapsFe18, mapsFe18_cores, labels, ns = [], [], [], []\n",
    "i = 0\n",
    "for f094, f171, f211 in zip(F_AIA094,F_AIA171,F_AIA211):\n",
    "    i=i+1;print(i)\n",
    "    m094  = Map(f094)\n",
    "    m171  = Map(f171)\n",
    "    m211  = Map(f211)\n",
    "    mFe18 = Map(f171)\n",
    "    mFe18.data[:] = m094.data - m211.data[:]/120 - m171.data[:]/450\n",
    "    mask = mFe18.data < mFe18.max() * 0.08\n",
    "    data = ndimage.gaussian_filter(mFe18.data * ~mask, 40)\n",
    "    mFe18_core = sunpy.map.Map(data, mFe18.meta)\n",
    "    label, n = ndimage.label(mFe18_core.data)\n",
    "    mapsFe18.append(mFe18)\n",
    "    mapsFe18_cores.append(mFe18_core)\n",
    "    labels.append(label)\n",
    "\n",
    "    ns.append(n)"
   ]
  },
  {
   "cell_type": "code",
   "execution_count": null,
   "metadata": {},
   "outputs": [],
   "source": [
    "fig, ax = plt.subplots(figsize=(10,10),subplot_kw=dict(projection=mapsFe18[0]));\n",
    "l = 3\n",
    "ims = []\n",
    "for t in range (72-l,72+l):\n",
    "    im = ax.imshow(mapsFe18[t].data)\n",
    "    ax.set_title(t)\n",
    "    #mapsFe18[t].plot_settings['norm'] = colors.Normalize()\n",
    "    #.colorbar()\n",
    "    #im.contour(labels[t])\n",
    "    ims.append(im)\n",
    "\n",
    "Ani = animation.ArtistAnimation(fig,ims,interval=5000,repeat_delay=1000)\n",
    "#Ani.save('hola.mp4')\n",
    "plt.show()"
   ]
  },
  {
   "cell_type": "code",
   "execution_count": null,
   "metadata": {},
   "outputs": [],
   "source": []
  },
  {
   "cell_type": "code",
   "execution_count": null,
   "metadata": {},
   "outputs": [],
   "source": [
    "def allfov(t):\n",
    "    fig, ax = plt.subplots(figsize=(10,10),subplot_kw=dict(projection=mapsFe18[t]));\n",
    "    mapsFe18[t].plot_settings['norm'] = colors.Normalize()\n",
    "    mapsFe18[t].plot(vmin=0,vmax=100,cmap='viridis',title='FeXVIII    '+F_AIA171[t][41:63])\n",
    "    plt.colorbar()\n",
    "    plt.contour(labels[t])\n",
    "    \n",
    "def plotcores(t):\n",
    "    fig, ax = plt.subplots(figsize=(10,10));\n",
    "    mapsFe18_cores[t].plot_settings['norm'] = colors.Normalize()\n",
    "    mapsFe18_cores[t].plot(vmin=0,vmax=10,cmap='viridis',title='FeXVIII    '+F_AIA171[t][41:63])\n",
    "    plt.colorbar()\n",
    "\n"
   ]
  },
  {
   "cell_type": "code",
   "execution_count": null,
   "metadata": {},
   "outputs": [],
   "source": [
    "l = 12; \n",
    "widgets.interact(plotcores, t=(68-l,72+l));\n",
    "#widgets.interact(allfov, t=(68-l,72+l));"
   ]
  },
  {
   "cell_type": "code",
   "execution_count": null,
   "metadata": {},
   "outputs": [],
   "source": [
    "# FeXVIII Map\n",
    "tt = 79\n",
    "fd094 = Map(file_list['94'][tt])\n",
    "fd171 = Map(file_list['171'][tt])\n",
    "fd211 = Map(file_list['211'][tt])\n",
    "fd = Map(file_list['171'][tt])\n",
    "fd.data[:] = fd094.data - fd211.data[:]/120 - fd171.data[:]/450"
   ]
  },
  {
   "cell_type": "code",
   "execution_count": null,
   "metadata": {},
   "outputs": [],
   "source": []
  },
  {
   "cell_type": "code",
   "execution_count": null,
   "metadata": {},
   "outputs": [],
   "source": [
    "F_AIA094 = file_list['94']\n",
    "F_AIA171 = file_list['171']\n",
    "F_AIA211 = file_list['211']\n",
    "\n",
    "#F_AIA171 = file_list['171'][52:83]\n",
    "#F_AIA211 = file_list['211'][56:87]\n",
    "mapsFe18 = []\n",
    "\n",
    "for f094, f171, f211 in zip(F_AIA094,F_AIA171,F_AIA211):\n",
    "    m094  = Map(f094)\n",
    "    m171  = Map(f171)\n",
    "    m211  = Map(f211)\n",
    "    mFe18 = Map(f171)\n",
    "    mFe18.data[:] = m094.data - m211.data[:]/120 - m171.data[:]/450\n",
    "    ## Co-rotating maps:\n",
    "    top_right =   SkyCoord((Ftarget['athiray'][0] + athirayfov[0]/2) * u.arcsec, \n",
    "                           (Ftarget['athiray'][1] + athirayfov[1]/2) * u.arcsec, frame=mFe18.coordinate_frame)\n",
    "    bottom_left = SkyCoord((Ftarget['athiray'][0] - athirayfov[0]/2) * u.arcsec, \n",
    "                           (Ftarget['athiray'][1] - athirayfov[1]/2) * u.arcsec,frame=mFe18.coordinate_frame)\n",
    "    submap = mFe18.submap(bottom_left, top_right)\n",
    "    mapsFe18.append(submap)    "
   ]
  },
  {
   "cell_type": "code",
   "execution_count": null,
   "metadata": {},
   "outputs": [],
   "source": [
    "''' Plot '''\n",
    "fig, ax = plt.subplots(figsize=(12,12),subplot_kw=dict(projection=fd))\n",
    "fd.plot_settings['norm'] = colors.Normalize()\n",
    "fd.plot(cmap='gnuplot2_r',vmin=0,vmax=100)\n",
    "#fd.plot(cmap='gnuplot2_r',vmin=1,vmax=50)\n",
    "plt.title('FeXVIII '+fd.name[-20:],fontsize=18)\n",
    "plt.colorbar(label=fd.meta['pixlunit'])\n",
    "plt.show()"
   ]
  },
  {
   "cell_type": "code",
   "execution_count": null,
   "metadata": {},
   "outputs": [],
   "source": [
    "mask = fd.data < fd.max() * 0.08\n",
    "data2 = ndimage.gaussian_filter(fd.data * ~mask, 40)\n",
    "#data2[data2 < 100] = 0\n",
    "fd2 = sunpy.map.Map(data2, fd.meta)\n",
    "labels, n = ndimage.label(fd2.data)"
   ]
  },
  {
   "cell_type": "code",
   "execution_count": null,
   "metadata": {},
   "outputs": [],
   "source": [
    "fig, ax = plt.subplots(figsize=(12,12),subplot_kw=dict(projection=fd))\n",
    "fd.plot()\n",
    "fd.plot_settings['norm'] = colors.Normalize()\n",
    "fd.plot(cmap='gnuplot2_r',vmin=0,vmax=100)\n",
    "plt.colorbar(label=fd.meta['pixlunit'])\n",
    "plt.contour(labels)\n",
    "plt.figtext(0.3, 0.2, f'Number of regions = {n}', color='white')\n",
    "plt.title('AIA FeXVIII - '+fd.meta['t_obs'][:-4],fontsize='28')\n",
    "ax.tick_params(labelsize=20)\n",
    "plt.show()"
   ]
  },
  {
   "cell_type": "code",
   "execution_count": null,
   "metadata": {},
   "outputs": [],
   "source": [
    "plt.figure(figsize=(10,10))\n",
    "plt.imshow(data2,origin='lower')"
   ]
  },
  {
   "cell_type": "code",
   "execution_count": null,
   "metadata": {},
   "outputs": [],
   "source": []
  },
  {
   "cell_type": "code",
   "execution_count": null,
   "metadata": {},
   "outputs": [],
   "source": []
  },
  {
   "cell_type": "code",
   "execution_count": null,
   "metadata": {},
   "outputs": [],
   "source": []
  },
  {
   "cell_type": "code",
   "execution_count": null,
   "metadata": {},
   "outputs": [],
   "source": []
  },
  {
   "cell_type": "code",
   "execution_count": null,
   "metadata": {},
   "outputs": [],
   "source": []
  },
  {
   "cell_type": "code",
   "execution_count": null,
   "metadata": {},
   "outputs": [],
   "source": []
  },
  {
   "cell_type": "code",
   "execution_count": null,
   "metadata": {},
   "outputs": [],
   "source": []
  },
  {
   "cell_type": "code",
   "execution_count": null,
   "metadata": {},
   "outputs": [],
   "source": []
  },
  {
   "cell_type": "code",
   "execution_count": null,
   "metadata": {},
   "outputs": [],
   "source": []
  },
  {
   "cell_type": "code",
   "execution_count": null,
   "metadata": {},
   "outputs": [],
   "source": []
  },
  {
   "cell_type": "code",
   "execution_count": null,
   "metadata": {},
   "outputs": [],
   "source": []
  },
  {
   "cell_type": "code",
   "execution_count": null,
   "metadata": {},
   "outputs": [],
   "source": []
  },
  {
   "cell_type": "code",
   "execution_count": null,
   "metadata": {},
   "outputs": [],
   "source": []
  },
  {
   "cell_type": "code",
   "execution_count": null,
   "metadata": {},
   "outputs": [],
   "source": []
  }
 ],
 "metadata": {
  "kernelspec": {
   "display_name": "Python 3",
   "language": "python",
   "name": "python3"
  },
  "language_info": {
   "codemirror_mode": {
    "name": "ipython",
    "version": 3
   },
   "file_extension": ".py",
   "mimetype": "text/x-python",
   "name": "python",
   "nbconvert_exporter": "python",
   "pygments_lexer": "ipython3",
   "version": "3.7.4"
  },
  "latex_envs": {
   "LaTeX_envs_menu_present": true,
   "autoclose": false,
   "autocomplete": true,
   "bibliofile": "biblio.bib",
   "cite_by": "apalike",
   "current_citInitial": 1,
   "eqLabelWithNumbers": true,
   "eqNumInitial": 1,
   "hotkeys": {
    "equation": "Ctrl-E",
    "itemize": "Ctrl-I"
   },
   "labels_anchors": false,
   "latex_user_defs": false,
   "report_style_numbering": false,
   "user_envs_cfg": false
  }
 },
 "nbformat": 4,
 "nbformat_minor": 2
}
