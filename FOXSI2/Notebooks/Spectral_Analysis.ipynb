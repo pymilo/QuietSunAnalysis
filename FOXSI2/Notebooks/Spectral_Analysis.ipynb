{
 "cells": [
  {
   "cell_type": "markdown",
   "metadata": {},
   "source": [
    "## Assessing the spectra during T4"
   ]
  },
  {
   "cell_type": "code",
   "execution_count": 41,
   "metadata": {},
   "outputs": [],
   "source": [
    "from scipy.io import readsav\n",
    "import matplotlib.pyplot as plt\n",
    "import matplotlib.patches as patches\n",
    "import numpy as np\n",
    "det = 6\n",
    "DataDir = './DataFOXSI2/'\n",
    "offset_xy = [360., -180.]\n",
    "T4x, T4y = 200, 750\n",
    "Dang = [-82.5000, -75.0000, 67.5000, 75.0000, -97.5000, -90.0000, 60.0000]  ## Detector angles\n",
    "tlaunch = 69060.\n",
    "Erange = [5, 10] # maximize the amount of counts we got\n",
    "#Erange = [6, 12] # to be consistent with Hannah et al. (2007, 2010)\n",
    "thr_n = 4.\n",
    "R10s = 700\n",
    "R07s = 500\n",
    "Xmask, Ymask = -240, 360\n",
    "\n",
    "\n",
    "def All_Data(datafile,Erange,Trange):\n",
    "    ''' return all data - Good and No Good - '''\n",
    "    # Read SAV LEV2 data : \n",
    "    data_lvl2_d6 = readsav(DataDir+datafile)[datafile[:-4]]\n",
    "    # Energy selection :\n",
    "    data_lvl2_d6_E = data_lvl2_d6[(np.stack(data_lvl2_d6['HIT_ENERGY']).T[1] > Erange[0]) &\n",
    "                                  (np.stack(data_lvl2_d6['HIT_ENERGY']).T[1] < Erange[1]) &\n",
    "                                  (np.stack(data_lvl2_d6['HIT_ENERGY']).T[0] > thr_n)]\n",
    "    # Time selection :\n",
    "    data_lvl2_d6_ET = data_lvl2_d6_E[(data_lvl2_d6_E['wsmr_time'] > Trange[0]) & \n",
    "                                    (data_lvl2_d6_E['wsmr_time'] < Trange[1])]\n",
    "    return data_lvl2_d6_ET\n",
    "\n",
    "def Good_Data(datafile,Erange,Trange):\n",
    "    # Read SAV LEV2 data : \n",
    "    data_lvl2_d6 = readsav(DataDir+datafile)[datafile[:-4]]\n",
    "    # Energy selection :\n",
    "    data_lvl2_d6_E = data_lvl2_d6[(np.stack(data_lvl2_d6['HIT_ENERGY']).T[1] > Erange[0]) &\n",
    "                                  (np.stack(data_lvl2_d6['HIT_ENERGY']).T[1] < Erange[1]) &\n",
    "                                  (np.stack(data_lvl2_d6['HIT_ENERGY']).T[0] > thr_n)]\n",
    "    # Time selection :\n",
    "    data_lvl2_d6_ET = data_lvl2_d6_E[(data_lvl2_d6_E['wsmr_time'] > Trange[0]) & \n",
    "                                    (data_lvl2_d6_E['wsmr_time'] < Trange[1])]\n",
    "    # Good_Data selection :\n",
    "    data_lvl2_d6_ET_noerr = data_lvl2_d6_ET[data_lvl2_d6_ET['ERROR_FLAG']==0]\n",
    "    return data_lvl2_d6_ET_noerr\n",
    "\n",
    "def plotdata(FXDX, det):\n",
    "    fig, ax = plt.subplots(figsize=(10,10))\n",
    "    # ornaments\n",
    "    ax.set_xlim(-1450,1450)\n",
    "    ax.set_ylim(-1450,1450)\n",
    "    ax.set_xlabel('arcsec',fontsize=28)\n",
    "    ax.set_ylabel('arcsec',fontsize=28)\n",
    "    ax.tick_params(axis='both', labelsize=20)\n",
    "    ax.set_title('FOXSI2 - Target 4 - Det '+str(det),fontsize=28)\n",
    "    # FOXSI2 Data\n",
    "    ax.scatter(np.stack(FXDX['HIT_XY_SOLAR']).T[0] + offset_xy[0],\n",
    "               np.stack(FXDX['HIT_XY_SOLAR']).T[1]+ offset_xy[1],\n",
    "               marker='o',color='black',alpha=0.4)\n",
    "    # D6 - Si\n",
    "    l = 990\n",
    "    mx = l/2 * ( np.sqrt(2) * np.sin(np.deg2rad(Dang[det]-45)) + 1)\n",
    "    my = l/2 * ( np.sqrt(2) * np.sin(np.deg2rad(Dang[det]-135)) + 1)\n",
    "    rect = patches.Rectangle((T4x-l/2+mx,T4y-l/2+my),990,990,angle=Dang[det],linewidth=1,edgecolor='r',facecolor='none')\n",
    "    ax.add_patch(rect)\n",
    "    solardisk = patches.Circle((0,0),radius= 960,fill=False);ax.add_patch(solardisk)\n",
    "    r = (R10s if det == 6 else R07s)\n",
    "    circ = patches.Circle((Xmask,Ymask),radius= r,fill=False);ax.add_patch(circ)\n",
    "    plt.show()\n",
    "    fig.savefig('F2T4D'+str(det)+'S.png',bbox_inches='tight',dpi=300)\n",
    "    plt.close(fig)\n",
    "\n",
    "def plotspect(FXDX):\n",
    "    es = np.stack(FXDX['hit_energy']).T[1] # get energy values\n",
    "    det = FXDX['det_num'][0]\n",
    "    # plot spectrum\n",
    "    fig, ax = plt.subplots(figsize=(8,6))\n",
    "    # ornaments\n",
    "    ax.set_xlim(4,11)\n",
    "    ax.set_ylim(0,1)\n",
    "    ax.set_xlabel('Energy [keV]',fontsize=28)\n",
    "    ax.set_yticks([])\n",
    "    ax.tick_params(axis='x', labelsize=20)\n",
    "    ax.set_title('FOXSI2 - Target 4 - Det '+str(det),fontsize=28)\n",
    "    ax.axvspan(5, 10, alpha=0.2, color='grey')\n",
    "    # FOXSI2 Data\n",
    "    ax.scatter(es, np.ones_like(es)*.5,s=250, c='grey', marker='o',alpha=0.7)\n",
    "    ax.vlines(es,ymin=0,ymax=1,color='grey',linestyles='dashed')\n",
    "    plt.show()\n",
    "    fig.savefig('F2T4D'+str(det)+'_Spec.pdf',bbox_inches='tight',dpi=300)\n",
    "    plt.close(fig)\n",
    "\n",
    "def plothist(FXDX):\n",
    "    es = np.stack(FXDX['hit_energy']).T[1] # get energy values\n",
    "    det = FXDX['det_num'][0]\n",
    "    # plot spectrum\n",
    "    fig, ax = plt.subplots(figsize=(8,6))\n",
    "    # ornaments\n",
    "    ax.set_xlim(4,11)\n",
    "    ax.set_xlabel('Energy [keV]',fontsize=28)\n",
    "    ax.set_yticks([])\n",
    "    ax.tick_params(axis='x', labelsize=20)\n",
    "    ax.set_title('FOXSI2 - Target 4 - Det '+str(det),fontsize=28)\n",
    "    ax.axvspan(5, 10, alpha=0.2, color='grey')\n",
    "    # FOXSI2 Data\n",
    "    ax.hist(es,bins=21,range=Erange,color='grey')\n",
    "    plt.show()\n",
    "    fig.savefig('images/F2T4D'+str(det)+'_Hist.pdf',bbox_inches='tight',dpi=300)\n",
    "    plt.close(fig)\n",
    "\n",
    "def plothist_gr(FXDX):\n",
    "    det = FXDX['det_num'][0]\n",
    "    Rmask = (R10s if det == 6 else R07s)\n",
    "    FX = np.stack(FXDX['HIT_XY_SOLAR']).T[0] + offset_xy[0]\n",
    "    FY = np.stack(FXDX['HIT_XY_SOLAR']).T[1]+ offset_xy[1]\n",
    "    EE = np.stack(FXDX['HIT_ENERGY']).T[1]\n",
    "    EEgr = EE[(np.sqrt((FX - Xmask )**2 + (FY - Ymask)**2) > Rmask)]\n",
    "    # plot spectrum\n",
    "    fig, ax = plt.subplots(figsize=(8,6))\n",
    "    # ornaments\n",
    "    ax.set_xlim(4,11)\n",
    "    ax.set_xlabel('Energy [keV]',fontsize=28)\n",
    "    ax.set_yticks([])\n",
    "    ax.tick_params(axis='x', labelsize=20)\n",
    "    ax.set_title('FOXSI2 - Target 4 - Det '+str(det),fontsize=28)\n",
    "    ax.axvspan(5, 10, alpha=0.2, color='grey')\n",
    "    # FOXSI2 Data\n",
    "    ax.hist(EEgr,bins=21,range=Erange,color='grey')\n",
    "    plt.show()\n",
    "    fig.savefig('images/F2T4D'+str(det)+'_HistNoGR.pdf',bbox_inches='tight',dpi=300)\n",
    "    plt.close(fig)"
   ]
  },
  {
   "cell_type": "code",
   "execution_count": 2,
   "metadata": {},
   "outputs": [],
   "source": [
    "# Defining times:\n",
    "t4_start = 373.5\n",
    "t4_end   = 466.2\n",
    "t_shtr_start = 438.0 #+ 4. # add +4sec to test background\n",
    "t_shtr_end   = 442.0\n",
    "Trange6 = np.array((t4_start, t4_end)) + tlaunch\n",
    "Trange0145 = np.array((t4_start, t_shtr_start)) + tlaunch\n",
    "Trangeshtr = np.array((t_shtr_start, t4_end)) + tlaunch"
   ]
  },
  {
   "cell_type": "code",
   "execution_count": 3,
   "metadata": {},
   "outputs": [],
   "source": [
    "# Loading FOXSI2 Data - ONLY GOOD DATA - :\n",
    "# 10-shell\n",
    "F2D6 = Good_Data('data_lvl2_d6.sav',Erange,Trange6)\n",
    "# 7-shell\n",
    "F2D5 = Good_Data('data_lvl2_d5.sav',Erange,Trange0145)\n",
    "F2D4 = Good_Data('data_lvl2_d4.sav',Erange,Trange0145)\n",
    "F2D1 = Good_Data('data_lvl2_d1.sav',Erange,Trange0145)\n",
    "F2D0 = Good_Data('data_lvl2_d0.sav',Erange,Trange0145)\n",
    "# shutter\n",
    "F2D5S = Good_Data('data_lvl2_d5.sav',Erange,Trangeshtr)\n",
    "F2D4S = Good_Data('data_lvl2_d4.sav',Erange,Trangeshtr)\n",
    "F2D1S = Good_Data('data_lvl2_d1.sav',Erange,Trangeshtr)\n",
    "F2D0S = Good_Data('data_lvl2_d0.sav',Erange,Trangeshtr)"
   ]
  },
  {
   "cell_type": "code",
   "execution_count": 4,
   "metadata": {},
   "outputs": [],
   "source": [
    "# Loading FOXSI2 Data - ALL DATA - :\n",
    "# NEEDED only for LIFETIME estimate purposes\n",
    "# 10-shell\n",
    "F2D6_All = All_Data('data_lvl2_d6.sav',Erange,Trange6)\n",
    "# 7-shell\n",
    "F2D5_All = All_Data('data_lvl2_d5.sav',Erange,Trange0145)\n",
    "F2D4_All = All_Data('data_lvl2_d4.sav',Erange,Trange0145)\n",
    "F2D1_All = All_Data('data_lvl2_d1.sav',Erange,Trange0145)\n",
    "F2D0_All = All_Data('data_lvl2_d0.sav',Erange,Trange0145)\n",
    "# shutter\n",
    "F2D5S_All = All_Data('data_lvl2_d5.sav',Erange,Trangeshtr)\n",
    "F2D4S_All = All_Data('data_lvl2_d4.sav',Erange,Trangeshtr)\n",
    "F2D1S_All = All_Data('data_lvl2_d1.sav',Erange,Trangeshtr)\n",
    "F2D0S_All = All_Data('data_lvl2_d0.sav',Erange,Trangeshtr)"
   ]
  },
  {
   "cell_type": "code",
   "execution_count": 21,
   "metadata": {},
   "outputs": [],
   "source": []
  },
  {
   "cell_type": "code",
   "execution_count": 46,
   "metadata": {},
   "outputs": [
    {
     "data": {
      "image/png": "[encoded data removed]",
      "text/plain": [
       "<Figure size 576x432 with 1 Axes>"
      ]
     },
     "metadata": {
      "needs_background": "light"
     },
     "output_type": "display_data"
    }
   ],
   "source": [
    "plothist(F2D0)"
   ]
  },
  {
   "cell_type": "markdown",
   "metadata": {},
   "source": [
    "### All detector Together"
   ]
  },
  {
   "cell_type": "code",
   "execution_count": 74,
   "metadata": {},
   "outputs": [],
   "source": [
    "def get_energies(FXDX):\n",
    "    det = FXDX['det_num'][0]\n",
    "    Rmask = (R10s if det == 6 else R07s)\n",
    "    FX = np.stack(FXDX['HIT_XY_SOLAR']).T[0] + offset_xy[0]\n",
    "    FY = np.stack(FXDX['HIT_XY_SOLAR']).T[1]+ offset_xy[1]\n",
    "    EE = np.stack(FXDX['HIT_ENERGY']).T[1]\n",
    "    return EE[(np.sqrt((FX - Xmask )**2 + (FY - Ymask)**2) > Rmask)]"
   ]
  },
  {
   "cell_type": "code",
   "execution_count": 75,
   "metadata": {},
   "outputs": [
    {
     "data": {
      "image/png": "[encoded data removed]",
      "text/plain": [
       "<Figure size 576x432 with 1 Axes>"
      ]
     },
     "metadata": {
      "needs_background": "light"
     },
     "output_type": "display_data"
    }
   ],
   "source": [
    "EEgr0 = get_energies(F2D0)\n",
    "EEgr1 = get_energies(F2D1)\n",
    "EEgr4 = get_energies(F2D4)\n",
    "EEgr5 = get_energies(F2D5)\n",
    "EEgr6 = get_energies(F2D6)\n",
    "EEgrAll = np.concatenate((EEgr0, EEgr1, EEgr4, EEgr5, EEgr6), axis=0)\n",
    "\n",
    "fig, ax = plt.subplots(figsize=(8,6))\n",
    "# ornaments\n",
    "ax.set_xlim(4,11)\n",
    "ax.set_xlabel('Energy [keV]',fontsize=28)\n",
    "ax.set_yticks([])\n",
    "ax.tick_params(axis='x', labelsize=20)\n",
    "ax.set_title('FOXSI2 - Target 4 - All Det ',fontsize=28)\n",
    "ax.axvspan(5, 10, alpha=0.2, color='grey')\n",
    "# FOXSI2 Data\n",
    "ax.hist(EEgrAll,bins=21,range=Erange,color='grey')\n",
    "plt.show()\n",
    "fig.savefig('images/F2T4_HistNoGR_All.pdf',bbox_inches='tight',dpi=300)\n",
    "plt.close(fig)"
   ]
  },
  {
   "cell_type": "code",
   "execution_count": 66,
   "metadata": {},
   "outputs": [
    {
     "data": {
      "image/png": "[encoded data removed]",
      "text/plain": [
       "<Figure size 576x432 with 1 Axes>"
      ]
     },
     "metadata": {
      "needs_background": "light"
     },
     "output_type": "display_data"
    }
   ],
   "source": [
    "es0 = np.stack(F2D0['hit_energy']).T[1]\n",
    "es1 = np.stack(F2D1['hit_energy']).T[1]\n",
    "es4 = np.stack(F2D4['hit_energy']).T[1]\n",
    "es5 = np.stack(F2D5['hit_energy']).T[1]\n",
    "es6 = np.stack(F2D6['hit_energy']).T[1]\n",
    "esAll = np.concatenate((es0, es1,es4, es5, es6), axis=0)\n",
    "\n",
    "fig, ax = plt.subplots(figsize=(8,6))\n",
    "# ornaments\n",
    "ax.set_xlim(4,11)\n",
    "ax.set_xlabel('Energy [keV]',fontsize=28)\n",
    "ax.set_yticks([])\n",
    "ax.tick_params(axis='x', labelsize=20)\n",
    "ax.set_title('FOXSI2 - Target 4 - All Det',fontsize=28)\n",
    "ax.axvspan(5, 10, alpha=0.2, color='grey')\n",
    "# FOXSI2 Data\n",
    "ax.hist(esAll,bins=21,range=Erange,color='grey')\n",
    "plt.show()\n",
    "fig.savefig('images/F2T4_Hist_All.pdf',bbox_inches='tight',dpi=300)\n",
    "plt.close(fig)"
   ]
  },
  {
   "cell_type": "code",
   "execution_count": null,
   "metadata": {},
   "outputs": [],
   "source": []
  },
  {
   "cell_type": "code",
   "execution_count": null,
   "metadata": {},
   "outputs": [],
   "source": []
  },
  {
   "cell_type": "code",
   "execution_count": null,
   "metadata": {},
   "outputs": [],
   "source": []
  },
  {
   "cell_type": "code",
   "execution_count": null,
   "metadata": {},
   "outputs": [],
   "source": []
  },
  {
   "cell_type": "code",
   "execution_count": null,
   "metadata": {},
   "outputs": [],
   "source": []
  },
  {
   "cell_type": "code",
   "execution_count": null,
   "metadata": {},
   "outputs": [],
   "source": []
  },
  {
   "cell_type": "code",
   "execution_count": null,
   "metadata": {},
   "outputs": [],
   "source": []
  },
  {
   "cell_type": "code",
   "execution_count": null,
   "metadata": {},
   "outputs": [],
   "source": []
  },
  {
   "cell_type": "code",
   "execution_count": null,
   "metadata": {},
   "outputs": [],
   "source": []
  },
  {
   "cell_type": "code",
   "execution_count": null,
   "metadata": {},
   "outputs": [],
   "source": []
  },
  {
   "cell_type": "code",
   "execution_count": null,
   "metadata": {},
   "outputs": [],
   "source": []
  }
 ],
 "metadata": {
  "kernelspec": {
   "display_name": "Python 3",
   "language": "python",
   "name": "python3"
  },
  "language_info": {
   "codemirror_mode": {
    "name": "ipython",
    "version": 3
   },
   "file_extension": ".py",
   "mimetype": "text/x-python",
   "name": "python",
   "nbconvert_exporter": "python",
   "pygments_lexer": "ipython3",
   "version": "3.7.4"
  },
  "latex_envs": {
   "LaTeX_envs_menu_present": true,
   "autoclose": false,
   "autocomplete": true,
   "bibliofile": "biblio.bib",
   "cite_by": "apalike",
   "current_citInitial": 1,
   "eqLabelWithNumbers": true,
   "eqNumInitial": 1,
   "hotkeys": {
    "equation": "Ctrl-E",
    "itemize": "Ctrl-I"
   },
   "labels_anchors": false,
   "latex_user_defs": false,
   "report_style_numbering": false,
   "user_envs_cfg": false
  }
 },
 "nbformat": 4,
 "nbformat_minor": 2
}
