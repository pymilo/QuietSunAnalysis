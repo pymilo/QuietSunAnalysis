{
 "cells": [
  {
   "cell_type": "markdown",
   "metadata": {},
   "source": [
    "# Ahnen Method ON/OFF Analysis\n",
    "#### July 2021"
   ]
  },
  {
   "cell_type": "code",
   "execution_count": 46,
   "metadata": {},
   "outputs": [],
   "source": [
    "import matplotlib.pyplot as plt\n",
    "import numpy as np\n",
    "from numpy import frompyfunc, arange\n",
    "from scipy.optimize import fminbound\n",
    "from mpmath import (hyperu, mp, sqrt, pi, atan, hyp2f1, gamma,\n",
    "    erfinv, rgamma, exp, power, quad, findroot, power)\n",
    "# set a sufficiently good accuracy for mpmath\n",
    "mp.dps = 50"
   ]
  },
  {
   "cell_type": "code",
   "execution_count": 29,
   "metadata": {},
   "outputs": [],
   "source": [
    "def B_01(Non, Noff, alpha):\n",
    "    '''\n",
    "    define Bayes factor, meaning the odds of background hypothesis over the\n",
    "    signal hypothesis.\n",
    "    \n",
    "    I realized that it may be better to drop one of the assumptions from the paper \n",
    "    ( that there is a full set of mutually exclusive hypothesis ) and work with \n",
    "    the Bayes factor directly. The implications of that are negligible when deciding \n",
    "    if there is a detection or not, as the missing gamma is small compared to delta \n",
    "    in the case of a signal.\n",
    "    '''\n",
    "    # gamma, delta, c1/c2\n",
    "    Nges = Non + Noff\n",
    "    gam = (1 + 2 * Noff) * power(alpha,(0.5 + Nges)) * gamma(0.5 + Nges)\n",
    "    delta = (2 * power((1 + alpha),Nges)) * gamma(1+Nges) * hyp2f1(0.5 + Noff, 1 + Nges, 1.5 + Noff, (-1 / alpha))\n",
    "    c1_c2 = sqrt(pi) / (2 * atan(1 / sqrt(alpha)))\n",
    "\n",
    "    return gam / (c1_c2 * delta)\n",
    "\n",
    "def P_lambda(lambda_s, Non, Noff, alpha):\n",
    "    '''\n",
    "    This is the marginalized signal parameter posterior.\n",
    "    The method is vectorized, in order to plot it faster (with matplotlib).\n",
    "    '''\n",
    "    # make a vectoriyed version of hyperu\n",
    "    hyperu_vec = frompyfunc(hyperu, 3, 1)\n",
    "    exp_vec = frompyfunc(exp, 1, 1)\n",
    "    power_vec = frompyfunc(power, 2, 1)\n",
    "    # rgamma_vec = frompyfunc(rgamma,1,1)\n",
    "\n",
    "    n1 = Non + Noff\n",
    "    n2 = Noff + 0.5\n",
    "    n3 = n1 + 1\n",
    "    n4 = n2 + 1\n",
    "\n",
    "    buf1 = exp_vec(-lambda_s) * power_vec(lambda_s, n1) * rgamma(n1 + 1)\n",
    "    buf2 = hyperu_vec(n2, n3, lambda_s * (1. + 1. / alpha))\n",
    "    buf3 = hyp2f1(n2, n3, n4, (-1. / alpha)) * rgamma(n4)\n",
    "\n",
    "    # print(buf1, buf2, buf3)\n",
    "\n",
    "    return 1./buf3*buf1*buf2\n",
    "\n",
    "def C_lambda(\n",
    "        lambda_s,\n",
    "        Non,\n",
    "        Noff,\n",
    "        alpha,\n",
    "        maxdeg=4,\n",
    "        err=True,\n",
    "        meth='gauss-legendre',\n",
    "        ):\n",
    "    '''\n",
    "    The cumulative distribution function of the signal posterior.\n",
    "    It uses Gauss-Legendre quadrature (optionally whatever mpmath.quad\n",
    "    can offer), in order to calculate the definite integral on the\n",
    "    interval [0,lambda_s].\n",
    "    '''\n",
    "    return quad(\n",
    "        lambda x: P_lambda(x, Non, Noff, alpha),\n",
    "        [0, lambda_s],\n",
    "        maxdegree=maxdeg,\n",
    "        error=err,\n",
    "        method=meth)\n",
    "\n",
    "def l_99(Non, Noff, alpha):\n",
    "    '''\n",
    "    this function shall find the 99% signal\n",
    "    posterior UL using the secant method and a good guess of the\n",
    "    starting point '''\n",
    "    sigma = sqrt(alpha*alpha*Noff + Non)\n",
    "    lstar = 0.0-alpha*Noff+Non\n",
    "\n",
    "    # lmin = 1e-11 if (lstar - sigma) < 0 else (lstar - sigma)\n",
    "    lmax = 1e-11 if (lstar + 2*sigma) < 0 else (lstar + 2*sigma)\n",
    "    guess = 3. + lmax\n",
    "    # print(guess)\n",
    "\n",
    "    b = findroot(\n",
    "        lambda x: C_lambda(x, Non, Noff, alpha)[0]-0.99,\n",
    "        guess,\n",
    "        solver='secant',\n",
    "        tol=1e-8)\n",
    "    return b\n",
    "\n",
    "def l_97(Non, Noff, alpha):\n",
    "    '''\n",
    "    this function shall find the 99% signal\n",
    "    posterior UL using the secant method and a good guess of the\n",
    "    starting point '''\n",
    "    sigma = sqrt(alpha*alpha*Noff + Non)\n",
    "    lstar = 0.0-alpha*Noff+Non\n",
    "\n",
    "    # lmin = 1e-11 if (lstar - sigma) < 0 else (lstar - sigma)\n",
    "    lmax = 1e-11 if (lstar + 2*sigma) < 0 else (lstar + 2*sigma)\n",
    "    guess = 3. + lmax\n",
    "    # print(guess)\n",
    "\n",
    "    b = findroot(\n",
    "        lambda x: C_lambda(x, Non, Noff, alpha)[0]-0.9772,\n",
    "        guess,\n",
    "        solver='secant',\n",
    "        tol=1e-8)\n",
    "    return b\n",
    "\n",
    "def S_B_01(Non, Noff, alpha):\n",
    "    '''\n",
    "    calculate the bayesian z-value via the bayes factor, truncated\n",
    "    to a reasonable number count region\n",
    "    '''\n",
    "    buf = 1-B_01(Non, Noff, alpha)\n",
    "    if buf < -1.0:\n",
    "        buf = -1.0\n",
    "    # print(buf)\n",
    "    return sqrt(\"2\")*erfinv(buf)"
   ]
  },
  {
   "cell_type": "markdown",
   "metadata": {},
   "source": [
    "## FOXSI2 Values"
   ]
  },
  {
   "cell_type": "code",
   "execution_count": 36,
   "metadata": {},
   "outputs": [],
   "source": [
    "Nons = [10, 13, 9, 10]\n",
    "Noffs = [4, 3, 1, 1]\n",
    "Alphas = [0.859, 0.920, 0.872, 0.869]"
   ]
  },
  {
   "cell_type": "code",
   "execution_count": 59,
   "metadata": {},
   "outputs": [],
   "source": [
    "Bs, Ss,L97s = [], [], []\n",
    "for n_on, n_off, alpha in zip(Nons,Noffs,Alphas):\n",
    "    Bs.append(float(B_01(n_on, n_off, alpha)))\n",
    "    Ss.append(float(S_B_01(n_on, n_off, alpha)))\n",
    "    L97s.append(float(l_97(n_on, n_off, alpha)))"
   ]
  },
  {
   "cell_type": "code",
   "execution_count": 60,
   "metadata": {},
   "outputs": [
    {
     "name": "stdout",
     "output_type": "stream",
     "text": [
      "[0.06224102 0.00826268 0.00547865 0.00277371]\n",
      "[1.86457488 2.64114325 2.77745435 2.99176406]\n",
      "[14.73252028 19.08851532 15.51650496 16.83080483]\n"
     ]
    }
   ],
   "source": [
    "print(np.array(Bs))\n",
    "print(np.array(Ss))\n",
    "print(np.array(L97s))"
   ]
  },
  {
   "cell_type": "markdown",
   "metadata": {},
   "source": [
    "#### Plot"
   ]
  },
  {
   "cell_type": "code",
   "execution_count": 67,
   "metadata": {},
   "outputs": [
    {
     "data": {
      "image/png": "[encoded data removed]",
      "text/plain": [
       "<Figure size 576x432 with 1 Axes>"
      ]
     },
     "metadata": {
      "needs_background": "light"
     },
     "output_type": "display_data"
    }
   ],
   "source": [
    "# plot the pdf\n",
    "x_range = arange(0, 1.5 * np.max(L97s), 0.1)\n",
    "fig, ax = plt.subplots(figsize=(8,6))\n",
    "for n_on, n_off, alpha in zip(Nons,Noffs,Alphas):\n",
    "    y_range = P_lambda(x_range, n_on, n_off, alpha)\n",
    "    ax.plot(x_range, y_range)\n",
    "\n",
    "plt.show()"
   ]
  },
  {
   "cell_type": "code",
   "execution_count": null,
   "metadata": {},
   "outputs": [],
   "source": []
  },
  {
   "cell_type": "code",
   "execution_count": null,
   "metadata": {},
   "outputs": [],
   "source": []
  },
  {
   "cell_type": "code",
   "execution_count": null,
   "metadata": {},
   "outputs": [],
   "source": []
  },
  {
   "cell_type": "code",
   "execution_count": null,
   "metadata": {},
   "outputs": [],
   "source": []
  },
  {
   "cell_type": "code",
   "execution_count": null,
   "metadata": {},
   "outputs": [],
   "source": []
  },
  {
   "cell_type": "code",
   "execution_count": null,
   "metadata": {},
   "outputs": [],
   "source": []
  },
  {
   "cell_type": "code",
   "execution_count": null,
   "metadata": {},
   "outputs": [],
   "source": []
  },
  {
   "cell_type": "code",
   "execution_count": null,
   "metadata": {},
   "outputs": [],
   "source": []
  },
  {
   "cell_type": "code",
   "execution_count": null,
   "metadata": {},
   "outputs": [],
   "source": []
  },
  {
   "cell_type": "code",
   "execution_count": null,
   "metadata": {},
   "outputs": [],
   "source": []
  },
  {
   "cell_type": "code",
   "execution_count": null,
   "metadata": {},
   "outputs": [],
   "source": []
  },
  {
   "cell_type": "code",
   "execution_count": null,
   "metadata": {},
   "outputs": [],
   "source": []
  },
  {
   "cell_type": "code",
   "execution_count": null,
   "metadata": {},
   "outputs": [],
   "source": []
  },
  {
   "cell_type": "code",
   "execution_count": null,
   "metadata": {},
   "outputs": [],
   "source": []
  },
  {
   "cell_type": "code",
   "execution_count": null,
   "metadata": {},
   "outputs": [],
   "source": []
  },
  {
   "cell_type": "code",
   "execution_count": null,
   "metadata": {},
   "outputs": [],
   "source": []
  },
  {
   "cell_type": "code",
   "execution_count": null,
   "metadata": {},
   "outputs": [],
   "source": []
  },
  {
   "cell_type": "code",
   "execution_count": null,
   "metadata": {},
   "outputs": [],
   "source": []
  },
  {
   "cell_type": "code",
   "execution_count": null,
   "metadata": {},
   "outputs": [],
   "source": []
  },
  {
   "cell_type": "code",
   "execution_count": null,
   "metadata": {},
   "outputs": [],
   "source": []
  },
  {
   "cell_type": "code",
   "execution_count": null,
   "metadata": {},
   "outputs": [],
   "source": []
  },
  {
   "cell_type": "code",
   "execution_count": null,
   "metadata": {},
   "outputs": [],
   "source": []
  },
  {
   "cell_type": "code",
   "execution_count": null,
   "metadata": {},
   "outputs": [],
   "source": []
  },
  {
   "cell_type": "code",
   "execution_count": null,
   "metadata": {},
   "outputs": [],
   "source": []
  },
  {
   "cell_type": "code",
   "execution_count": null,
   "metadata": {},
   "outputs": [],
   "source": []
  },
  {
   "cell_type": "code",
   "execution_count": null,
   "metadata": {},
   "outputs": [],
   "source": []
  },
  {
   "cell_type": "code",
   "execution_count": null,
   "metadata": {},
   "outputs": [],
   "source": []
  }
 ],
 "metadata": {
  "kernelspec": {
   "display_name": "Python 3",
   "language": "python",
   "name": "python3"
  },
  "language_info": {
   "codemirror_mode": {
    "name": "ipython",
    "version": 3
   },
   "file_extension": ".py",
   "mimetype": "text/x-python",
   "name": "python",
   "nbconvert_exporter": "python",
   "pygments_lexer": "ipython3",
   "version": "3.7.4"
  },
  "latex_envs": {
   "LaTeX_envs_menu_present": true,
   "autoclose": false,
   "autocomplete": true,
   "bibliofile": "biblio.bib",
   "cite_by": "apalike",
   "current_citInitial": 1,
   "eqLabelWithNumbers": true,
   "eqNumInitial": 1,
   "hotkeys": {
    "equation": "Ctrl-E",
    "itemize": "Ctrl-I"
   },
   "labels_anchors": false,
   "latex_user_defs": false,
   "report_style_numbering": false,
   "user_envs_cfg": false
  }
 },
 "nbformat": 4,
 "nbformat_minor": 2
}
