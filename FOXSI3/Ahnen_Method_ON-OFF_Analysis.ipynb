{
 "cells": [
  {
   "cell_type": "markdown",
   "metadata": {},
   "source": [
    "# Ahnen Method ON/OFF Analysis\n",
    "#### July 2021\n",
    "\n",
    "Det 0 is the only one that was flown in FOXSI-2 and FOXSI-3. I Will start the On/Off analysis with that detector, assuming it is the most reliable."
   ]
  },
  {
   "cell_type": "code",
   "execution_count": 2,
   "metadata": {},
   "outputs": [],
   "source": [
    "import astropy.units as u\n",
    "import matplotlib.pyplot as plt\n",
    "import numpy as np\n",
    "from numpy import frompyfunc, arange\n",
    "from scipy.optimize import fminbound\n",
    "from mpmath import (hyperu, mp, sqrt, pi, atan, hyp2f1, gamma,\n",
    "    erfinv, rgamma, exp, power, quad, findroot, power)\n",
    "# set a sufficiently good accuracy for mpmath\n",
    "mp.dps = 50"
   ]
  },
  {
   "cell_type": "code",
   "execution_count": 3,
   "metadata": {},
   "outputs": [],
   "source": [
    "def B_01(Non, Noff, alpha):\n",
    "    '''\n",
    "    define Bayes factor, meaning the odds of background hypothesis over the\n",
    "    signal hypothesis.\n",
    "    \n",
    "    I realized that it may be better to drop one of the assumptions from the paper \n",
    "    ( that there is a full set of mutually exclusive hypothesis ) and work with \n",
    "    the Bayes factor directly. The implications of that are negligible when deciding \n",
    "    if there is a detection or not, as the missing gamma is small compared to delta \n",
    "    in the case of a signal.\n",
    "    '''\n",
    "    # gamma, delta, c1/c2\n",
    "    Nges = Non + Noff\n",
    "    gam = (1 + 2 * Noff) * power(alpha,(0.5 + Nges)) * gamma(0.5 + Nges)\n",
    "    delta = (2 * power((1 + alpha),Nges)) * gamma(1+Nges) * hyp2f1(0.5 + Noff, 1 + Nges, 1.5 + Noff, (-1 / alpha))\n",
    "    c1_c2 = sqrt(pi) / (2 * atan(1 / sqrt(alpha)))\n",
    "\n",
    "    return gam / (c1_c2 * delta)\n",
    "\n",
    "def P_lambda(lambda_s, Non, Noff, alpha):\n",
    "    '''\n",
    "    This is the marginalized signal parameter posterior.\n",
    "    The method is vectorized, in order to plot it faster (with matplotlib).\n",
    "    '''\n",
    "    # make a vectoriyed version of hyperu\n",
    "    hyperu_vec = frompyfunc(hyperu, 3, 1)\n",
    "    exp_vec = frompyfunc(exp, 1, 1)\n",
    "    power_vec = frompyfunc(power, 2, 1)\n",
    "    # rgamma_vec = frompyfunc(rgamma,1,1)\n",
    "\n",
    "    n1 = Non + Noff\n",
    "    n2 = Noff + 0.5\n",
    "    n3 = n1 + 1\n",
    "    n4 = n2 + 1\n",
    "\n",
    "    buf1 = exp_vec(-lambda_s) * power_vec(lambda_s, n1) * rgamma(n1 + 1)\n",
    "    buf2 = hyperu_vec(n2, n3, lambda_s * (1. + 1. / alpha))\n",
    "    buf3 = hyp2f1(n2, n3, n4, (-1. / alpha)) * rgamma(n4)\n",
    "\n",
    "    # print(buf1, buf2, buf3)\n",
    "\n",
    "    return 1./buf3*buf1*buf2\n",
    "\n",
    "def C_lambda(\n",
    "        lambda_s,\n",
    "        Non,\n",
    "        Noff,\n",
    "        alpha,\n",
    "        maxdeg=4,\n",
    "        err=True,\n",
    "        meth='gauss-legendre',\n",
    "        ):\n",
    "    '''\n",
    "    The cumulative distribution function of the signal posterior.\n",
    "    It uses Gauss-Legendre quadrature (optionally whatever mpmath.quad\n",
    "    can offer), in order to calculate the definite integral on the\n",
    "    interval [0,lambda_s].\n",
    "    '''\n",
    "    return quad(\n",
    "        lambda x: P_lambda(x, Non, Noff, alpha),\n",
    "        [0, lambda_s],\n",
    "        maxdegree=maxdeg,\n",
    "        error=err,\n",
    "        method=meth)\n",
    "\n",
    "def l_99(Non, Noff, alpha):\n",
    "    '''\n",
    "    this function shall find the 99% signal\n",
    "    posterior UL using the secant method and a good guess of the\n",
    "    starting point '''\n",
    "    sigma = sqrt(alpha*alpha*Noff + Non)\n",
    "    lstar = 0.0-alpha*Noff+Non\n",
    "\n",
    "    # lmin = 1e-11 if (lstar - sigma) < 0 else (lstar - sigma)\n",
    "    lmax = 1e-11 if (lstar + 2*sigma) < 0 else (lstar + 2*sigma)\n",
    "    guess = 3. + lmax\n",
    "    # print(guess)\n",
    "\n",
    "    b = findroot(\n",
    "        lambda x: C_lambda(x, Non, Noff, alpha)[0]-0.99,\n",
    "        guess,\n",
    "        solver='secant',\n",
    "        tol=1e-8)\n",
    "    return b\n",
    "\n",
    "def l_97(Non, Noff, alpha):\n",
    "    '''\n",
    "    this function shall find the 99% signal\n",
    "    posterior UL using the secant method and a good guess of the\n",
    "    starting point '''\n",
    "    sigma = sqrt(alpha*alpha*Noff + Non)\n",
    "    lstar = 0.0-alpha*Noff+Non\n",
    "\n",
    "    # lmin = 1e-11 if (lstar - sigma) < 0 else (lstar - sigma)\n",
    "    lmax = 1e-11 if (lstar + 2*sigma) < 0 else (lstar + 2*sigma)\n",
    "    guess = 3. + lmax\n",
    "    guess = 5.67\n",
    "    # print(guess)\n",
    "\n",
    "    b = findroot(\n",
    "        lambda x: C_lambda(x, Non, Noff, alpha)[0]-0.9772,\n",
    "        guess,\n",
    "        solver='secant',\n",
    "        tol=1e-8)\n",
    "    return b\n",
    "\n",
    "def S_B_01(Non, Noff, alpha):\n",
    "    '''\n",
    "    calculate the bayesian z-value via the bayes factor, truncated\n",
    "    to a reasonable number count region\n",
    "    '''\n",
    "    buf = 1-B_01(Non, Noff, alpha)\n",
    "    if buf < -1.0:\n",
    "        buf = -1.0\n",
    "    # print(buf)\n",
    "    return sqrt(\"2\")*erfinv(buf)"
   ]
  },
  {
   "cell_type": "code",
   "execution_count": 4,
   "metadata": {},
   "outputs": [
    {
     "name": "stdout",
     "output_type": "stream",
     "text": [
      "alpha = 16.1\n",
      "B01 = 0.89\n",
      "S_B01 = 0.14\n",
      "L_2s = 5.43\n"
     ]
    }
   ],
   "source": [
    "# I assume the livetime was the same for Det 0 during the FOXSI-2\n",
    "# background observation and FOXSI-3 quiet-Sun observation.\n",
    "α = (388.8*u.s)/(24.2*u.s)  # Ton*Aon/Toff*Aoff\n",
    "n_on = 2\n",
    "n_off = 1\n",
    "print('alpha = {}'.format(round(α.value,1)))\n",
    "print('B01 = {}'.format(round(B_01(n_on, n_off, α.value),2)))\n",
    "print('S_B01 = {}'.format(round(S_B_01(n_on, n_off, α.value),2)))\n",
    "print('L_2s = {}'.format(round(l_97(n_on, n_off, α.value),2)))"
   ]
  },
  {
   "cell_type": "code",
   "execution_count": 5,
   "metadata": {},
   "outputs": [
    {
     "name": "stdout",
     "output_type": "stream",
     "text": [
      "Flux_2s = 0.000963\n"
     ]
    }
   ],
   "source": [
    "flux = (l_97(n_on, n_off, α.value)*3270504.0)/\\\n",
    "        (333.*5*11.3*980100)\n",
    "print('Flux_2s = {}'.format(round(flux,6)))"
   ]
  },
  {
   "cell_type": "code",
   "execution_count": 40,
   "metadata": {},
   "outputs": [
    {
     "data": {
      "image/png": "[encoded data removed]",
      "text/plain": [
       "<Figure size 576x576 with 1 Axes>"
      ]
     },
     "metadata": {
      "needs_background": "light"
     },
     "output_type": "display_data"
    }
   ],
   "source": [
    "from matplotlib.ticker import ScalarFormatter\n",
    "fig, ax = plt.subplots(figsize=(8,8))\n",
    "# Iain's Data (2010) :\n",
    "ax.plot([3,6],[340.38e-4,340.38e-4],linewidth=4.0,color='grey')\n",
    "ax.plot([6,12],[9.5e-4,9.5e-4],linewidth=4.0,color='grey')\n",
    "ax.plot([12,25],[1.88e-4,1.88e-4],linewidth=4.0,color='grey')\n",
    "ax.plot([25,50],[0.8e-4,0.8e-4],linewidth=4.0,color='grey')\n",
    "ax.plot([50,100],[0.58e-4,0.58e-4],linewidth=4.0,color='grey')\n",
    "ax.plot([100,200],[0.44e-4,0.44e-4],linewidth=4.0,color='grey',label='Hannah et al (2010)')\n",
    "# FOXSI2\n",
    "f2limit = 0.045\n",
    "ax.plot([5,10],[f2limit,f2limit],linewidth=4.0,color='tab:orange',label='FOXSI-2 [ON/OFF Li-Ma]',alpha=0.8) # best\n",
    "ax.arrow(7, f2limit, 0, -0.01,head_width=0.5, head_length=0.004,alpha=0.8,\n",
    "         fc='tab:orange', ec='tab:orange',linewidth=3.0)\n",
    "# FOXSI3 Gehrels\n",
    "Gehrels_lim = 9.6e-4\n",
    "ax.plot([5,10],[Gehrels_lim,Gehrels_lim],linewidth=4.0,color='tab:red',label='FOXSI-3 [ON/OFF Li-Ma]',alpha=0.8) # best\n",
    "ax.arrow(7, Gehrels_lim, 0, -0.0002,head_width=0.5, head_length=0.0001,alpha=0.8,\n",
    "         fc='tab:red', ec='tab:red',linewidth=3.0)\n",
    "# FOXSI3 Ahnen\n",
    "Ahnen_lim = 6.0e-4\n",
    "ax.plot([5,10],[Ahnen_lim,Ahnen_lim],linewidth=4.0,color='tab:blue',label='FOXSI-3 [Gehrels]',alpha=0.8) # best\n",
    "ax.arrow(7, Ahnen_lim, 0, -0.00013,head_width=0.5, head_length=0.00005,alpha=0.8,\n",
    "         fc='tab:blue', ec='tab:blue',linewidth=3.0)\n",
    "# ornaments\n",
    "ax.set_xscale('log')\n",
    "ax.set_yscale('log')\n",
    "ax.xaxis.set_major_formatter(ScalarFormatter())\n",
    "ax.set_xlim(2.7,220)\n",
    "ax.set_ylim(2e-5,0.15)\n",
    "ax.set_xlabel('Energy [keV]',fontsize=26)\n",
    "ax.set_ylabel('Photon flux [s$^{-1}$ cm$^{-2}$ keV$^{-1}$]',fontsize=26)\n",
    "ax.tick_params(axis='both', labelsize=20)\n",
    "ax.set_title('Quiet Sun Flux',fontsize=30)\n",
    "ax.legend(fontsize=14)\n",
    "plt.show()\n",
    "fig.savefig('images/QS_Flux_Ahnen.pdf',bbox_inches='tight',dpi=300)\n",
    "plt.close(fig)"
   ]
  },
  {
   "cell_type": "markdown",
   "metadata": {},
   "source": [
    "### Reducing Ahnen to Gehrels"
   ]
  },
  {
   "cell_type": "code",
   "execution_count": 35,
   "metadata": {},
   "outputs": [
    {
     "name": "stdout",
     "output_type": "stream",
     "text": [
      "Flux_2s = 0.000963\n"
     ]
    }
   ],
   "source": [
    "# True Values\n",
    "α = (388.8*u.s)/(24.2*u.s)  # Ton*Aon/Toff*Aoff\n",
    "n_on = 2\n",
    "n_off = 1\n",
    "λ2σ = l_97(n_on, n_off, α.value)\n",
    "flux = (λ2σ*3270504.0)/(333.*5*11.3*980100)\n",
    "print('Flux_2s = {}'.format(round(flux,6)))"
   ]
  },
  {
   "cell_type": "markdown",
   "metadata": {},
   "source": [
    "### Plotting Distribution Function for the Det that flew on FOXSI 2 and 3"
   ]
  },
  {
   "cell_type": "code",
   "execution_count": 108,
   "metadata": {},
   "outputs": [
    {
     "data": {
      "image/png": "[encoded data removed]",
      "text/plain": [
       "<Figure size 720x432 with 1 Axes>"
      ]
     },
     "metadata": {
      "needs_background": "light"
     },
     "output_type": "display_data"
    }
   ],
   "source": [
    "n = 100 # number of points in plot\n",
    "x_range = arange(0, 1.7 * λ2σ, λ2σ/n, dtype=float)\n",
    "f_range = arange(0, 1.7 * flux, flux/n)\n",
    "fig, ax = plt.subplots(figsize=(10,6))\n",
    "y_range = np.array((P_lambda(x_range, n_on, n_off, α.value)).tolist(), dtype=float)\n",
    "ax.plot(f_range, y_range,linewidth=4,alpha=.7,color='red',\n",
    "       label=r'(Non, Noff, $\\alpha$)=({0}, {1}, {2})'.format(n_on,n_off,round(α.value,1)))\n",
    "ax.axvline(flux,linestyle='dashed',color='red',alpha=.9)\n",
    "ax.text(flux-0.00005,0.05,'Flux<'+str(round(flux,5))+'$|_{2\\sigma}$',\n",
    "           rotation='vertical',color='red', size=14, alpha=.9)\n",
    "# ornaments\n",
    "ax.set_xlim(float(f_range[0]), 1.6 * float(flux))\n",
    "ax.set_xticklabels([0, 0.0005, 0.0010, 0.0015, 0.002, 0.0025, 0.003, 0.0035], rotation = 25)\n",
    "ax.set_ylim(0, 1.1*np.nanmax(y_range))\n",
    "ax.set_xlabel('Flux [s$^{-1}$ cm$^{-2}$ keV$^{-1}$]',fontsize=32)\n",
    "ax.set_ylabel(r'P(Flux|$N_{on},N_{off}$,$\\alpha,H_1$)',fontsize=28)\n",
    "ax.tick_params(axis='both', labelsize=20)\n",
    "ax.legend(fontsize=11)\n",
    "fig.savefig('images/Flux_Det4.pdf',bbox_inches='tight',dpi=300)\n",
    "plt.show()"
   ]
  },
  {
   "cell_type": "code",
   "execution_count": 97,
   "metadata": {},
   "outputs": [
    {
     "data": {
      "text/plain": [
       "'0.00096'"
      ]
     },
     "execution_count": 97,
     "metadata": {},
     "output_type": "execute_result"
    }
   ],
   "source": [
    "str(round(flux,5))"
   ]
  },
  {
   "cell_type": "code",
   "execution_count": 57,
   "metadata": {},
   "outputs": [
    {
     "data": {
      "text/plain": [
       "mpf('0.00096315123953636428034084124455861499018268827626588201')"
      ]
     },
     "execution_count": 57,
     "metadata": {},
     "output_type": "execute_result"
    }
   ],
   "source": [
    "flux"
   ]
  },
  {
   "cell_type": "code",
   "execution_count": null,
   "metadata": {},
   "outputs": [],
   "source": [
    "Gehrels_lim = 0.0013\n",
    "# True Values\n",
    "α = (388.8*u.s)/(2.2*u.s)  # Ton*Aon/Toff*Aoff\n",
    "n_on = 2\n",
    "n_off = 0\n",
    "flux_test = (l_97(n_on, n_off, α.value)*3270504.0)/\\\n",
    "        (333.*5*11.3*980100)\n",
    "print('Flux_2s_Ahne_origi = {}'.format(round(flux,6)))\n",
    "print('Flux_2s_Gehr = {}'.format(round(Gehrels_lim,6)))\n",
    "print('Flux_2s_Ahnen_0bkg = {}'.format(round(flux_test,6)))"
   ]
  },
  {
   "cell_type": "code",
   "execution_count": null,
   "metadata": {},
   "outputs": [],
   "source": []
  },
  {
   "cell_type": "code",
   "execution_count": null,
   "metadata": {},
   "outputs": [],
   "source": []
  },
  {
   "cell_type": "code",
   "execution_count": null,
   "metadata": {},
   "outputs": [],
   "source": []
  },
  {
   "cell_type": "code",
   "execution_count": null,
   "metadata": {},
   "outputs": [],
   "source": []
  },
  {
   "cell_type": "code",
   "execution_count": null,
   "metadata": {},
   "outputs": [],
   "source": []
  },
  {
   "cell_type": "code",
   "execution_count": null,
   "metadata": {},
   "outputs": [],
   "source": []
  },
  {
   "cell_type": "code",
   "execution_count": null,
   "metadata": {},
   "outputs": [],
   "source": []
  }
 ],
 "metadata": {
  "kernelspec": {
   "display_name": "Python 3",
   "language": "python",
   "name": "python3"
  },
  "language_info": {
   "codemirror_mode": {
    "name": "ipython",
    "version": 3
   },
   "file_extension": ".py",
   "mimetype": "text/x-python",
   "name": "python",
   "nbconvert_exporter": "python",
   "pygments_lexer": "ipython3",
   "version": "3.7.4"
  },
  "latex_envs": {
   "LaTeX_envs_menu_present": true,
   "autoclose": false,
   "autocomplete": true,
   "bibliofile": "biblio.bib",
   "cite_by": "apalike",
   "current_citInitial": 1,
   "eqLabelWithNumbers": true,
   "eqNumInitial": 1,
   "hotkeys": {
    "equation": "Ctrl-E",
    "itemize": "Ctrl-I"
   },
   "labels_anchors": false,
   "latex_user_defs": false,
   "report_style_numbering": false,
   "user_envs_cfg": false
  }
 },
 "nbformat": 4,
 "nbformat_minor": 2
}
