{
 "cells": [
  {
   "cell_type": "markdown",
   "metadata": {},
   "source": [
    "## July 2021\n",
    "## Plotting FOXSI-3 data"
   ]
  },
  {
   "cell_type": "code",
   "execution_count": 51,
   "metadata": {},
   "outputs": [],
   "source": [
    "from scipy.io import readsav\n",
    "import matplotlib.pyplot as plt\n",
    "import matplotlib.patches as patches\n",
    "import numpy as np\n",
    "import datetime\n",
    "import sunpy.coordinates\n",
    "\n",
    "DataDir = './DataFOXSI3/'\n",
    "offset_xy = [0., 0.]\n",
    "Dang = [-82.5000, -75.0000, 67.5000, 75.0000, -97.5000, -90.0000, 60.0000]  ## Detector angles\n",
    "tlaunch = 62460.\n",
    "t0 = datetime.datetime(2018,9,7,17,21)\n",
    "thr_n = 0.\n",
    "Rsun  = sunpy.coordinates.sun.angular_radius(datetime.datetime(2018,9,7,17,21)).value \\\n",
    "        * (1 + 50000/695700) # This is equivalent to chose a buffer of 50km over the solar photosphere.\n",
    "\n",
    "Ftarget = {'T1': {'xy':(429.9, 39.5),      'time':(104.6,232.8)},\n",
    "           'T2': {'xy':(-0.1, 650.7),      'time':(239.9,263.9)},\n",
    "           'T3': {'xy':(-650.8, 39.6),     'time':(271.0,415.6)},\n",
    "           'T4': {'xy':(429.8, 39.6), 'time':(419.2,445.5)},\n",
    "           'T5': {'xy':(550.8, 39.6), 'time':(449.9,494.1)}\n",
    "          }\n",
    "\n",
    "def All_Data(datafile,Erange,Trange):\n",
    "    ''' return all data - Good and No Good - '''\n",
    "    # Read SAV LEV2 data : \n",
    "    data_lvl2_di = readsav(DataDir+datafile)[datafile[:-4]]\n",
    "    # Energy selection :\n",
    "    data_lvl2_di_E = data_lvl2_di[(np.stack(data_lvl2_di['HIT_ENERGY']).T[1] > Erange[0]) &\n",
    "                                  (np.stack(data_lvl2_di['HIT_ENERGY']).T[1] < Erange[1]) &\n",
    "                                  (np.stack(data_lvl2_di['HIT_ENERGY']).T[0] > thr_n)]\n",
    "    # Time selection :\n",
    "    data_lvl2_di_ET = data_lvl2_di_E[(data_lvl2_di_E['wsmr_time'] > Trange[0]) & \n",
    "                                     (data_lvl2_di_E['wsmr_time'] < Trange[1])]\n",
    "    return data_lvl2_di_ET\n",
    "\n",
    "def Good_Data(datafile,Erange,Trange):\n",
    "    # Read SAV LEV2 data : \n",
    "    data_lvl2_di = readsav(DataDir+datafile)[datafile[:-4]]\n",
    "    # Energy selection :\n",
    "    data_lvl2_di_E = data_lvl2_di[(np.stack(data_lvl2_di['HIT_ENERGY']).T[1] > Erange[0]) &\n",
    "                                  (np.stack(data_lvl2_di['HIT_ENERGY']).T[1] < Erange[1]) &\n",
    "                                  (np.stack(data_lvl2_di['HIT_ENERGY']).T[0] > thr_n)]\n",
    "    # Time selection :\n",
    "    data_lvl2_di_ET = data_lvl2_di_E[(data_lvl2_di_E['wsmr_time'] > Trange[0]) & \n",
    "                                     (data_lvl2_di_E['wsmr_time'] < Trange[1])]\n",
    "    # Good_Data selection :\n",
    "    data_lvl2_di_ET_noerr = data_lvl2_di_ET[data_lvl2_di_ET['ERROR_FLAG']==0]\n",
    "    return data_lvl2_di_ET_noerr\n",
    "\n",
    "def plotdata(FXDX, det, Target):\n",
    "    Tx, Ty = Ftarget[f'T{Target}']['xy']\n",
    "    fig, ax = plt.subplots(figsize=(10,10))\n",
    "    # ornaments\n",
    "    ax.set_xlim(-1450,1450)\n",
    "    ax.set_ylim(-1450,1450)\n",
    "    ax.set_xlabel('arcsec',fontsize=28)\n",
    "    ax.set_ylabel('arcsec',fontsize=28)\n",
    "    ax.tick_params(axis='both', labelsize=20)\n",
    "    ax.set_title(f'FOXSI3 - Target {Target} - Det {det}',fontsize=28)\n",
    "    # FOXSI2 Data\n",
    "    if len(FXDX['HIT_XY_SOLAR']) != 0:\n",
    "        ax.scatter(np.stack(FXDX['HIT_XY_SOLAR']).T[0] + offset_xy[0],\n",
    "                   np.stack(FXDX['HIT_XY_SOLAR']).T[1]+ offset_xy[1],\n",
    "                   marker='o',color='black',alpha=0.4)\n",
    "    # D6 - Si\n",
    "    l = 990\n",
    "    mx = l/2 * ( np.sqrt(2) * np.sin(np.deg2rad(Dang[det]-45)) + 1)\n",
    "    my = l/2 * ( np.sqrt(2) * np.sin(np.deg2rad(Dang[det]-135)) + 1)\n",
    "    rect = patches.Rectangle((Tx-l/2+mx,Ty-l/2+my),990,990,angle=Dang[det],linewidth=1,edgecolor='r',facecolor='none')\n",
    "    ax.add_patch(rect)\n",
    "    solardisk = patches.Circle((0,0),radius= Rsun,fill=False);ax.add_patch(solardisk)\n",
    "    plt.show()\n",
    "    fig.savefig(f'./images/F3T{Target}D{det}.pdf',bbox_inches='tight',dpi=300)\n",
    "    plt.close(fig)\n",
    "\n",
    "    \n",
    "def plotdata_all(FXDX, det):\n",
    "    fig, ax = plt.subplots(figsize=(10,10))\n",
    "    # ornaments\n",
    "    ax.set_xlim(-1450,1450)\n",
    "    ax.set_ylim(-1450,1450)\n",
    "    ax.set_xlabel('arcsec',fontsize=28)\n",
    "    ax.set_ylabel('arcsec',fontsize=28)\n",
    "    ax.tick_params(axis='both', labelsize=20)\n",
    "    ax.set_title(f'FOXSI3 - All Targets - Det {det}',fontsize=28)\n",
    "    # FOXSI2 Data\n",
    "    if len(FXDX['HIT_XY_SOLAR']) != 0:\n",
    "        ax.scatter(np.stack(FXDX['HIT_XY_SOLAR']).T[0] + offset_xy[0],\n",
    "                   np.stack(FXDX['HIT_XY_SOLAR']).T[1]+ offset_xy[1],\n",
    "                   marker='o',color='black',alpha=0.4)\n",
    "    # D6 - Si\n",
    "    l = 990\n",
    "    mx = l/2 * ( np.sqrt(2) * np.sin(np.deg2rad(Dang[det]-45)) + 1)\n",
    "    my = l/2 * ( np.sqrt(2) * np.sin(np.deg2rad(Dang[det]-135)) + 1)\n",
    "    for Target in range(1,6):\n",
    "        Tx, Ty = Ftarget[f'T{Target}']['xy']\n",
    "        rect = patches.Rectangle((Tx-l/2+mx,Ty-l/2+my),990,990,angle=Dang[det],linewidth=1,edgecolor='r',facecolor='none')\n",
    "        ax.add_patch(rect)\n",
    "    solardisk = patches.Circle((0,0),radius= Rsun,fill=False);ax.add_patch(solardisk)\n",
    "    plt.show()\n",
    "    fig.savefig(f'./images/F3D{det}_all.pdf',bbox_inches='tight',dpi=300)\n",
    "    plt.close(fig)"
   ]
  },
  {
   "cell_type": "code",
   "execution_count": 37,
   "metadata": {},
   "outputs": [],
   "source": [
    "# Total observation flight (All fligth)\n",
    "Trange_all = np.array((Ftarget[f'T1']['time'][0],Ftarget[f'T5']['time'][1])) + tlaunch\n",
    "Erange_all = [5, 10] # Defining Energy range\n",
    "# Loading FOXSI3 Data - ONLY GOOD DATA - :\n",
    "# 10-shell\n",
    "F3D0_all = Good_Data('data_lvl2_d0.sav',Erange_all,Trange_all)\n",
    "F3D4_all = Good_Data('data_lvl2_d4.sav',Erange_all,Trange_all)\n",
    "# 7-shell\n",
    "F3D2_all = Good_Data('data_lvl2_d2.sav',Erange_all,Trange_all)"
   ]
  },
  {
   "cell_type": "code",
   "execution_count": 52,
   "metadata": {},
   "outputs": [
    {
     "ename": "UnboundLocalError",
     "evalue": "local variable 'Target' referenced before assignment",
     "output_type": "error",
     "traceback": [
      "\u001b[0;31m---------------------------------------------------------------------------\u001b[0m",
      "\u001b[0;31mUnboundLocalError\u001b[0m                         Traceback (most recent call last)",
      "\u001b[0;32m<ipython-input-52-2761017039d2>\u001b[0m in \u001b[0;36m<module>\u001b[0;34m\u001b[0m\n\u001b[0;32m----> 1\u001b[0;31m \u001b[0mplotdata_all\u001b[0m\u001b[0;34m(\u001b[0m\u001b[0mF3D2_all\u001b[0m\u001b[0;34m,\u001b[0m\u001b[0;36m2\u001b[0m\u001b[0;34m)\u001b[0m\u001b[0;34m\u001b[0m\u001b[0;34m\u001b[0m\u001b[0m\n\u001b[0m",
      "\u001b[0;32m<ipython-input-51-f5de5d619151>\u001b[0m in \u001b[0;36mplotdata_all\u001b[0;34m(FXDX, det)\u001b[0m\n\u001b[1;32m     84\u001b[0m     \u001b[0max\u001b[0m\u001b[0;34m.\u001b[0m\u001b[0mset_ylabel\u001b[0m\u001b[0;34m(\u001b[0m\u001b[0;34m'arcsec'\u001b[0m\u001b[0;34m,\u001b[0m\u001b[0mfontsize\u001b[0m\u001b[0;34m=\u001b[0m\u001b[0;36m28\u001b[0m\u001b[0;34m)\u001b[0m\u001b[0;34m\u001b[0m\u001b[0;34m\u001b[0m\u001b[0m\n\u001b[1;32m     85\u001b[0m     \u001b[0max\u001b[0m\u001b[0;34m.\u001b[0m\u001b[0mtick_params\u001b[0m\u001b[0;34m(\u001b[0m\u001b[0maxis\u001b[0m\u001b[0;34m=\u001b[0m\u001b[0;34m'both'\u001b[0m\u001b[0;34m,\u001b[0m \u001b[0mlabelsize\u001b[0m\u001b[0;34m=\u001b[0m\u001b[0;36m20\u001b[0m\u001b[0;34m)\u001b[0m\u001b[0;34m\u001b[0m\u001b[0;34m\u001b[0m\u001b[0m\n\u001b[0;32m---> 86\u001b[0;31m     \u001b[0max\u001b[0m\u001b[0;34m.\u001b[0m\u001b[0mset_title\u001b[0m\u001b[0;34m(\u001b[0m\u001b[0;34mf'FOXSI3 - Target {Target} - Det {det}'\u001b[0m\u001b[0;34m,\u001b[0m\u001b[0mfontsize\u001b[0m\u001b[0;34m=\u001b[0m\u001b[0;36m28\u001b[0m\u001b[0;34m)\u001b[0m\u001b[0;34m\u001b[0m\u001b[0;34m\u001b[0m\u001b[0m\n\u001b[0m\u001b[1;32m     87\u001b[0m     \u001b[0;31m# FOXSI2 Data\u001b[0m\u001b[0;34m\u001b[0m\u001b[0;34m\u001b[0m\u001b[0;34m\u001b[0m\u001b[0m\n\u001b[1;32m     88\u001b[0m     \u001b[0;32mif\u001b[0m \u001b[0mlen\u001b[0m\u001b[0;34m(\u001b[0m\u001b[0mFXDX\u001b[0m\u001b[0;34m[\u001b[0m\u001b[0;34m'HIT_XY_SOLAR'\u001b[0m\u001b[0;34m]\u001b[0m\u001b[0;34m)\u001b[0m \u001b[0;34m!=\u001b[0m \u001b[0;36m0\u001b[0m\u001b[0;34m:\u001b[0m\u001b[0;34m\u001b[0m\u001b[0;34m\u001b[0m\u001b[0m\n",
      "\u001b[0;31mUnboundLocalError\u001b[0m: local variable 'Target' referenced before assignment"
     ]
    },
    {
     "data": {
      "image/png": "[encoded data removed]",
      "text/plain": [
       "<Figure size 720x720 with 1 Axes>"
      ]
     },
     "metadata": {
      "needs_background": "light"
     },
     "output_type": "display_data"
    }
   ],
   "source": [
    "plotdata_all(F3D2_all,2)"
   ]
  },
  {
   "cell_type": "code",
   "execution_count": 50,
   "metadata": {},
   "outputs": [
    {
     "name": "stdout",
     "output_type": "stream",
     "text": [
      "1\n",
      "2\n",
      "3\n",
      "4\n",
      "5\n"
     ]
    }
   ],
   "source": [
    "for Target in range(1,6):\n",
    "    print(Target)"
   ]
  },
  {
   "cell_type": "code",
   "execution_count": null,
   "metadata": {},
   "outputs": [],
   "source": []
  },
  {
   "cell_type": "code",
   "execution_count": null,
   "metadata": {},
   "outputs": [],
   "source": []
  },
  {
   "cell_type": "code",
   "execution_count": 23,
   "metadata": {},
   "outputs": [
    {
     "data": {
      "image/png": "[encoded data removed]",
      "text/plain": [
       "<Figure size 720x720 with 1 Axes>"
      ]
     },
     "metadata": {
      "needs_background": "light"
     },
     "output_type": "display_data"
    }
   ],
   "source": [
    "# Defining TARGET:\n",
    "Target = 5\n",
    "\n",
    "Trange = np.array(Ftarget[f'T{Target}']['time']) + tlaunch # Defining times:\n",
    "Erange = [5, 10] # Defining Energy range\n",
    "#Erange = [3, 25] # Defining Energy range\n",
    "\n",
    "# Loading FOXSI3 Data - ONLY GOOD DATA - :\n",
    "# 10-shell\n",
    "F3D0 = Good_Data('data_lvl2_d0.sav',Erange,Trange)\n",
    "F3D4 = Good_Data('data_lvl2_d4.sav',Erange,Trange)\n",
    "# 7-shell\n",
    "F3D2 = Good_Data('data_lvl2_d2.sav',Erange,Trange)\n",
    "\n",
    "plotdata(F3D2, 2, Target)"
   ]
  },
  {
   "cell_type": "code",
   "execution_count": 3,
   "metadata": {},
   "outputs": [
    {
     "name": "stdout",
     "output_type": "stream",
     "text": [
      "Initial observation time: 2018-09-07 17:22:44.600000\n",
      "Final observation time: 2018-09-07 17:29:14.100000\n",
      "Observation time: 6.48 minutes\n"
     ]
    }
   ],
   "source": [
    "t_i = t0 + datetime.timedelta(seconds=(Ftarget['T1']['time'][0]))\n",
    "t_f = t0 + datetime.timedelta(seconds=(Ftarget['T5']['time'][1]))\n",
    "delta_t = t_f - t_i\n",
    "print(f'Initial observation time: {t_i}')\n",
    "print(f'Final observation time: {t_f}')\n",
    "print(f'Observation time: {round(delta_t.seconds/60,2)} minutes')"
   ]
  },
  {
   "cell_type": "code",
   "execution_count": 4,
   "metadata": {},
   "outputs": [
    {
     "name": "stdout",
     "output_type": "stream",
     "text": [
      "Toff1 = 0.342, Toff2 = 0.353, Toff3 = 0.462\n",
      "Toff Total = 1.157\n"
     ]
    }
   ],
   "source": [
    "lt1, lt2, lt3 = 1., 1., 1.\n",
    "\n",
    "Aout_D0 = 335331.8 #335331.8#336726.3#331331.8#333277.8\n",
    "Ain_D0 = 980100.#333995.8 #333995.8#332529.8#332738.6#334336.5\n",
    "Adet = 980100.\n",
    "Anoflare = 948690.5\n",
    "time1 = 68.5\n",
    "time2 = 24.2\n",
    "time3 = 32.7\n",
    "\n",
    "Ton = time1 * lt1\n",
    "Toff1 = time1/Ton * lt1 * Aout_D0/Ain_D0\n",
    "Toff2 = time2/Ton * lt2 * Adet/Ain_D0\n",
    "Toff3 = time3/Ton * lt3 * Anoflare/Ain_D0\n",
    "print('Toff1 = {0}, Toff2 = {1}, Toff3 = {2}'.\n",
    "      format(round( Toff1, 3),round( Toff2, 3), round( Toff3, 3)))\n",
    "print('Toff Total = {0}'.format(round(Toff1 + Toff2 + Toff3, 3)))"
   ]
  },
  {
   "cell_type": "code",
   "execution_count": null,
   "metadata": {},
   "outputs": [],
   "source": []
  },
  {
   "cell_type": "code",
   "execution_count": null,
   "metadata": {},
   "outputs": [],
   "source": []
  },
  {
   "cell_type": "code",
   "execution_count": null,
   "metadata": {},
   "outputs": [],
   "source": []
  },
  {
   "cell_type": "markdown",
   "metadata": {},
   "source": [
    "## Spectral analysis\n",
    "For the entire flight with the three functional Si Det."
   ]
  },
  {
   "cell_type": "code",
   "execution_count": 4,
   "metadata": {},
   "outputs": [],
   "source": [
    "# Time of the whole flight:\n",
    "Trange_All = np.array((Ftarget['T1']['time'][0],Ftarget['T5']['time'][1])) + tlaunch\n",
    "\n",
    "# Loading ALL FOXSI3 Data - GOOD DATA - :\n",
    "# 10-shell\n",
    "F3D0_All = Good_Data('data_lvl2_d0.sav',Erange,Trange_All)\n",
    "F3D4_All = Good_Data('data_lvl2_d4.sav',Erange,Trange_All)\n",
    "# 7-shell\n",
    "F3D2_All = Good_Data('data_lvl2_d2.sav',Erange,Trange_All)\n",
    "\n",
    "# Reading energy values:\n",
    "es0 = np.stack(F3D0_All['hit_energy']).T[1]\n",
    "es2 = np.stack(F3D2_All['hit_energy']).T[1]\n",
    "es4 = np.stack(F3D4_All['hit_energy']).T[1]\n",
    "# Concatenate All together:\n",
    "esAll = np.concatenate((es0, es2, es4), axis=0)"
   ]
  },
  {
   "cell_type": "code",
   "execution_count": 5,
   "metadata": {},
   "outputs": [
    {
     "data": {
      "image/png": "[encoded data removed]",
      "text/plain": [
       "<Figure size 576x432 with 1 Axes>"
      ]
     },
     "metadata": {
      "needs_background": "light"
     },
     "output_type": "display_data"
    }
   ],
   "source": [
    "fig, ax = plt.subplots(figsize=(8,6))\n",
    "# ornaments\n",
    "ax.set_xlim(2,26)\n",
    "ax.set_xlabel('Energy [keV]',fontsize=28)\n",
    "ax.set_yticks([])\n",
    "ax.tick_params(axis='x', labelsize=20)\n",
    "ax.set_title('FOXSI3 - All Targets - All Det',fontsize=28)\n",
    "ax.axvspan(3, 25, alpha=0.2, color='grey')\n",
    "# FOXSI2 Data\n",
    "ax.hist(esAll,bins=41,range=Erange,color='grey')\n",
    "plt.show()\n",
    "fig.savefig('images/F3_Hist_All.pdf',bbox_inches='tight',dpi=300)\n",
    "plt.close(fig)"
   ]
  },
  {
   "cell_type": "code",
   "execution_count": null,
   "metadata": {},
   "outputs": [],
   "source": []
  },
  {
   "cell_type": "code",
   "execution_count": null,
   "metadata": {},
   "outputs": [],
   "source": []
  },
  {
   "cell_type": "code",
   "execution_count": 6,
   "metadata": {},
   "outputs": [
    {
     "data": {
      "text/plain": [
       "[3.1,\n",
       " 3.9,\n",
       " 6.0,\n",
       " 8.2,\n",
       " 8.2,\n",
       " 9.2,\n",
       " 9.2,\n",
       " 10.4,\n",
       " 10.5,\n",
       " 14.0,\n",
       " 14.2,\n",
       " 15.6,\n",
       " 16.1,\n",
       " 17.7,\n",
       " 22.0,\n",
       " 23.2,\n",
       " 23.5]"
      ]
     },
     "execution_count": 6,
     "metadata": {},
     "output_type": "execute_result"
    }
   ],
   "source": [
    "[round(e,1) for e in np.sort(es4)]"
   ]
  },
  {
   "cell_type": "code",
   "execution_count": 7,
   "metadata": {},
   "outputs": [
    {
     "data": {
      "text/plain": [
       "array([array([11.740619, 10.042346], dtype=float32),\n",
       "       array([ 1.2036618, 18.222034 ], dtype=float32),\n",
       "       array([13.760019 ,  9.0642395], dtype=float32),\n",
       "       array([32.545235, 24.87136 ], dtype=float32),\n",
       "       array([15.975129, 12.36564 ], dtype=float32),\n",
       "       array([10.177143,  8.217526], dtype=float32),\n",
       "       array([2.1837451, 6.7089944], dtype=float32),\n",
       "       array([9.020856, 6.922174], dtype=float32),\n",
       "       array([19.083452, 16.460638], dtype=float32),\n",
       "       array([24.271605, 11.848103], dtype=float32),\n",
       "       array([29.351257, 13.165363], dtype=float32),\n",
       "       array([17.865532, 15.432531], dtype=float32),\n",
       "       array([13.098155, 13.013449], dtype=float32),\n",
       "       array([16.31041 , 11.764761], dtype=float32),\n",
       "       array([134.39066  ,   7.3061695], dtype=float32),\n",
       "       array([28.288853, 23.38272 ], dtype=float32),\n",
       "       array([26.010275, 20.266027], dtype=float32),\n",
       "       array([37.26782 , 23.627651], dtype=float32)], dtype=object)"
      ]
     },
     "execution_count": 7,
     "metadata": {},
     "output_type": "execute_result"
    }
   ],
   "source": [
    "F3D2_All['hit_energy']"
   ]
  },
  {
   "cell_type": "code",
   "execution_count": 8,
   "metadata": {},
   "outputs": [
    {
     "data": {
      "text/plain": [
       "array([array([1.6551579, 9.247451 ], dtype=float32),\n",
       "       array([45.969883, 23.213411], dtype=float32),\n",
       "       array([ 1.5547514, 16.052843 ], dtype=float32),\n",
       "       array([12.206111 ,  8.2496195], dtype=float32),\n",
       "       array([18.637342 , 10.4298725], dtype=float32),\n",
       "       array([4.9485235, 6.0304894], dtype=float32),\n",
       "       array([12.099571, 17.675913], dtype=float32),\n",
       "       array([154.85516  ,   3.0700855], dtype=float32),\n",
       "       array([147.23326 ,  10.526966], dtype=float32),\n",
       "       array([31.981726, 21.986586], dtype=float32),\n",
       "       array([ 1.6419641, 15.567543 ], dtype=float32),\n",
       "       array([20.6396  ,  8.212826], dtype=float32),\n",
       "       array([19.329138, 13.960479], dtype=float32),\n",
       "       array([22.382326 ,  3.9377313], dtype=float32),\n",
       "       array([94.748764, 23.542637], dtype=float32),\n",
       "       array([94.07968 ,  9.231011], dtype=float32),\n",
       "       array([18.624483, 14.181884], dtype=float32)], dtype=object)"
      ]
     },
     "execution_count": 8,
     "metadata": {},
     "output_type": "execute_result"
    }
   ],
   "source": [
    "F3D4_All['hit_energy']"
   ]
  },
  {
   "cell_type": "code",
   "execution_count": null,
   "metadata": {},
   "outputs": [],
   "source": []
  },
  {
   "cell_type": "code",
   "execution_count": null,
   "metadata": {},
   "outputs": [],
   "source": []
  },
  {
   "cell_type": "code",
   "execution_count": null,
   "metadata": {},
   "outputs": [],
   "source": []
  },
  {
   "cell_type": "code",
   "execution_count": null,
   "metadata": {},
   "outputs": [],
   "source": []
  },
  {
   "cell_type": "code",
   "execution_count": null,
   "metadata": {},
   "outputs": [],
   "source": []
  },
  {
   "cell_type": "code",
   "execution_count": null,
   "metadata": {},
   "outputs": [],
   "source": []
  }
 ],
 "metadata": {
  "kernelspec": {
   "display_name": "Python 3",
   "language": "python",
   "name": "python3"
  },
  "language_info": {
   "codemirror_mode": {
    "name": "ipython",
    "version": 3
   },
   "file_extension": ".py",
   "mimetype": "text/x-python",
   "name": "python",
   "nbconvert_exporter": "python",
   "pygments_lexer": "ipython3",
   "version": "3.7.4"
  },
  "latex_envs": {
   "LaTeX_envs_menu_present": true,
   "autoclose": false,
   "autocomplete": true,
   "bibliofile": "biblio.bib",
   "cite_by": "apalike",
   "current_citInitial": 1,
   "eqLabelWithNumbers": true,
   "eqNumInitial": 1,
   "hotkeys": {
    "equation": "Ctrl-E",
    "itemize": "Ctrl-I"
   },
   "labels_anchors": false,
   "latex_user_defs": false,
   "report_style_numbering": false,
   "user_envs_cfg": false
  }
 },
 "nbformat": 4,
 "nbformat_minor": 2
}
